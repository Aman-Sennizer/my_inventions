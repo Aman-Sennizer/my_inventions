{
 "cells": [
  {
   "cell_type": "markdown",
   "metadata": {},
   "source": [
    "# Split the given string into Primes : Digit DP"
   ]
  },
  {
   "cell_type": "code",
   "execution_count": null,
   "metadata": {},
   "outputs": [],
   "source": [
    "def checkPrime(number):\n",
    "    num = int(number)\n",
    "    for i in range(2, int(num**0.5)): \n",
    "        if((num % i) == 0):\n",
    "            return False\n",
    "    return True\n",
    "\n",
    "\n",
    "def split(number,n):\n",
    "    dp=[-1 for i in range(n+1)]\n",
    "    for i in range(1,min(6,n)+1):\n",
    "        if checkPrime(number[0:i]):\n",
    "            dp[i]=1\n",
    "            j=1\n",
    "            while j<=6 and len(number[i:i+j])<=6:\n",
    "                if checkPrime(number[i:i+j]):\n",
    "                    dp[i+j]=dp[i]+1\n",
    "                \n",
    "                \n",
    "            \n",
    "    "
   ]
  },
  {
   "cell_type": "code",
   "execution_count": null,
   "metadata": {},
   "outputs": [],
   "source": [
    "def goldy(mat,n,m):\n",
    "    gold=[[0 for i in range(m)] for j in range(n)]\n",
    "    for col in range(m-2,-1,-1):\n",
    "        for row in range(0,n):\n",
    "            if row==0:\n",
    "                right=mat[row][col]+mat[row][col+1]\n",
    "                right_down=\n",
    "            "
   ]
  },
  {
   "cell_type": "code",
   "execution_count": null,
   "metadata": {},
   "outputs": [],
   "source": [
    "def minstep(n,lookup):\n",
    "    if n==1:\n",
    "        return 0\n",
    "    \n",
    "    if lookup[n]!=0:\n",
    "        return lookup[n]\n",
    "    \n",
    "    minimum=minstep(n-1,lookup)\n",
    "    \n",
    "    if n%2==0:\n",
    "        minimum=min(minimum,minstep(n//2,lookup))\n",
    "            \n",
    "    if n%3==0:\n",
    "        minimum=min(minimum,minstep(n//3,lookup))\n",
    "            \n",
    "    lookup[n]=minimum+1\n",
    "    print(lookup)\n",
    "    return lookup[n]\n",
    "\n",
    "n=10\n",
    "lookup=[0]*(n+1)\n",
    "print(minstep(n,lookup))\n",
    "        "
   ]
  },
  {
   "cell_type": "code",
   "execution_count": null,
   "metadata": {},
   "outputs": [],
   "source": [
    "n=int(input())\n",
    "lookup=[0]*(n+1)\n",
    "for i in range(2,n+1):\n",
    "    minimum=lookup[i-1]\n",
    "    \n",
    "    if i%2==0 and lookup[i//2]<minimum:\n",
    "        minimum=lookup[i//2]\n",
    "        \n",
    "    if i%3==0 and lookup[i//3]<minimum:\n",
    "        minimum=lookup[i//3]\n",
    "    lookup[i]=minimum+1\n",
    "    \n",
    "print(lookup[n])"
   ]
  },
  {
   "cell_type": "code",
   "execution_count": null,
   "metadata": {},
   "outputs": [],
   "source": [
    "def change(m,l):\n",
    "    if m<0 or len(l)<=0:\n",
    "        return 0\n",
    "    if m==0:\n",
    "        return 1\n",
    "    else:\n",
    "        return change(m-l[-1],l)+change(m,l[:-1])\n",
    "    \n",
    "m=int(input())\n",
    "l=list(map(int,input().split()))\n",
    "print(change(m,l))"
   ]
  },
  {
   "cell_type": "code",
   "execution_count": null,
   "metadata": {},
   "outputs": [],
   "source": [
    "def change(n,coins,dp):\n",
    "    if n==0:\n",
    "        return 0\n",
    "    if dp[n]!=0:\n",
    "        return dp[n]\n",
    "    ans=100000000\n",
    "    for i in range(len(coins)):\n",
    "        if n-coins[i]>=0:\n",
    "            sub=change(n-coins[i],coins,dp)\n",
    "            ans=min(ans,sub+1)\n",
    "    dp[n]=ans\n",
    "    print(dp)\n",
    "    return dp[n]\n",
    "    \n",
    "    \n",
    "m=int(input())\n",
    "l=list(map(int,input().split()))\n",
    "dp=[0]*20\n",
    "print(change(m,l,dp))"
   ]
  },
  {
   "cell_type": "code",
   "execution_count": null,
   "metadata": {},
   "outputs": [],
   "source": [
    "m=int(input())\n",
    "l=list(map(int,input().split()))\n",
    "dp=[0]*(m+1)\n",
    "for i in range(1,m+1):\n",
    "    dp[i]=100000\n",
    "    for j in range(len(l)):\n",
    "        if i-l[j]>=0:\n",
    "            minimum=dp[i-l[j]]\n",
    "            dp[i]=min(dp[i],minimum+1)\n",
    "print(dp[m])\n",
    "            \n",
    "            \n",
    "\n"
   ]
  },
  {
   "cell_type": "code",
   "execution_count": null,
   "metadata": {},
   "outputs": [],
   "source": [
    "def wineseller(l,start,end,y):\n",
    "    if start>end:\n",
    "        return 0\n",
    "    a=l[start]*y+wineseller(l,start+1,end,y+1)\n",
    "    b=l[end]*y+wineseller(l,start,end-1,y+1)\n",
    "    c=max(a,b)\n",
    "    return c\n",
    "\n",
    "\n",
    "\n",
    "\n",
    "l=list(map(int,input().split()))\n",
    "wineseller(l,0,len(l),1)\n",
    "\n"
   ]
  },
  {
   "cell_type": "code",
   "execution_count": null,
   "metadata": {},
   "outputs": [],
   "source": [
    "def minjumps(l,start):\n",
    "    return min(minjumps()\n",
    "    \n",
    "    "
   ]
  },
  {
   "cell_type": "code",
   "execution_count": null,
   "metadata": {},
   "outputs": [],
   "source": [
    "l=list(map(int,input().split()))\n",
    "dp=[0]*(len(l)+1)\n",
    "dp[1]=0 \n",
    "l.insert(0,1000000007)\n",
    "for i in range(2,len(l)):\n",
    "    one=abs(l[i]-l[i-1])+dp[i-1]\n",
    "    two=abs(l[i]-l[i-2])+dp[i-2]\n",
    "    dp[i]=min(one,two)\n",
    "print(dp,l)\n",
    "    "
   ]
  },
  {
   "cell_type": "code",
   "execution_count": null,
   "metadata": {},
   "outputs": [],
   "source": [
    "l=list(map(int,input().split()))\n",
    "k=int(input())\n",
    "for _ in range(k):\n",
    "    l.insert(0,10000000)\n",
    "intmax=1000000007\n",
    "dp=[0]*(len(l)+k)\n",
    "dp[1]=0 \n",
    "for i in range(k+1,len(l)):\n",
    "    for j in range(i-1,i-k-1,-1):\n",
    "        intmax=min(abs(l[i]-l[j])+dp[j],intmax)\n",
    "        dp[i]=intmax\n",
    "print(l)\n",
    "print(dp)\n",
    "        \n",
    "    "
   ]
  },
  {
   "cell_type": "code",
   "execution_count": 2,
   "metadata": {},
   "outputs": [
    {
     "name": "stdout",
     "output_type": "stream",
     "text": [
      "10 30 40 50 20\n",
      "3\n",
      "[0, 0, 20, 30, 40, 30]\n"
     ]
    }
   ],
   "source": [
    "l=list(map(int,input().split()))\n",
    "k=int(input())\n",
    "dp=[0]*(len(l)+1)\n",
    "dp[1]=0 \n",
    "l.insert(0,1000000007)\n",
    "intmax=1000000007\n",
    "for i in range(2,len(l)):\n",
    "    dp[i]=intmax\n",
    "    for j in range(i-1,i-k-1,-1):\n",
    "        if j>=1 and (i-j)<=k:\n",
    "            dp[i]=min(abs(l[i]-l[j])+dp[j],dp[i])\n",
    "print(dp)\n",
    "    "
   ]
  },
  {
   "cell_type": "code",
   "execution_count": null,
   "metadata": {},
   "outputs": [],
   "source": []
  },
  {
   "cell_type": "code",
   "execution_count": null,
   "metadata": {},
   "outputs": [],
   "source": []
  },
  {
   "cell_type": "code",
   "execution_count": null,
   "metadata": {},
   "outputs": [],
   "source": []
  }
 ],
 "metadata": {
  "kernelspec": {
   "display_name": "Python 3",
   "language": "python",
   "name": "python3"
  },
  "language_info": {
   "codemirror_mode": {
    "name": "ipython",
    "version": 3
   },
   "file_extension": ".py",
   "mimetype": "text/x-python",
   "name": "python",
   "nbconvert_exporter": "python",
   "pygments_lexer": "ipython3",
   "version": "3.7.6"
  }
 },
 "nbformat": 4,
 "nbformat_minor": 4
}

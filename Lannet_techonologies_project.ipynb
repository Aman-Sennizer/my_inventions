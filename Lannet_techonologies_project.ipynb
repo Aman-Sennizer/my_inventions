{
  "nbformat": 4,
  "nbformat_minor": 0,
  "metadata": {
    "colab": {
      "name": "Lannet techonologies project.ipynb",
      "provenance": [],
      "collapsed_sections": [],
      "authorship_tag": "ABX9TyO2j4jV/YOE5Uo1Xhqs9eX9",
      "include_colab_link": true
    },
    "kernelspec": {
      "name": "python3",
      "display_name": "Python 3"
    }
  },
  "cells": [
    {
      "cell_type": "markdown",
      "metadata": {
        "id": "view-in-github",
        "colab_type": "text"
      },
      "source": [
        "<a href=\"https://colab.research.google.com/github/Aman-Sennizer/my_inventions/blob/master/Lannet_techonologies_project.ipynb\" target=\"_parent\"><img src=\"https://colab.research.google.com/assets/colab-badge.svg\" alt=\"Open In Colab\"/></a>"
      ]
    },
    {
      "cell_type": "code",
      "metadata": {
        "id": "E6WD2c9Bajyy",
        "colab_type": "code",
        "colab": {
          "base_uri": "https://localhost:8080/",
          "height": 71
        },
        "outputId": "88bfc4bd-c493-4253-901c-520f6ad0c327"
      },
      "source": [
        "import pandas as pd\n",
        "import seaborn as sns      # for heatmap(correlation)"
      ],
      "execution_count": 201,
      "outputs": [
        {
          "output_type": "stream",
          "text": [
            "/usr/local/lib/python3.6/dist-packages/statsmodels/tools/_testing.py:19: FutureWarning: pandas.util.testing is deprecated. Use the functions in the public API at pandas.testing instead.\n",
            "  import pandas.util.testing as tm\n"
          ],
          "name": "stderr"
        }
      ]
    },
    {
      "cell_type": "markdown",
      "metadata": {
        "id": "e8z8pOz5tuL5",
        "colab_type": "text"
      },
      "source": [
        "**Task 1.1**\n",
        "Detect/Identify date columns\n",
        "\n",
        "*If the column datatype is already datetime64[ns] we can easily detect the column.\n",
        "\n",
        "*If column datatype is object but it is denoting date then we can use for loop and pd.to_datetime on columns in order to explicitly find such column.\n",
        "\n",
        "*In this way we can explicitly identify a datetime column if it's present in datatype object.\n"
      ]
    },
    {
      "cell_type": "code",
      "metadata": {
        "id": "rvSKyWnZu7jd",
        "colab_type": "code",
        "colab": {}
      },
      "source": [
        "def identify_date_col(dataframe):\n",
        "  time_col=[]                        #list containing date columns\n",
        "  for col in dataframe.columns:    \n",
        "    if dataframe[col].dtype == 'object':      #check if date datatype is present as object datatype then convert\n",
        "        try:\n",
        "            dataframe[col] = pd.to_datetime(dataframe[col])  #if datatype is object but column contains date then explicitly convert it\"\n",
        "        except ValueError:\n",
        "            pass\n",
        "  for col in dataframe.columns:\n",
        "    if dataframe[col].dtypes==\"datetime64[ns]\":\n",
        "      time_col.append(col)\n",
        "  return time_col                                 #look for date columns\n",
        "\n"
      ],
      "execution_count": 202,
      "outputs": []
    },
    {
      "cell_type": "markdown",
      "metadata": {
        "id": "rneM2hX-OI_j",
        "colab_type": "text"
      },
      "source": [
        "**Task 1.2 and Task 1.3**"
      ]
    },
    {
      "cell_type": "code",
      "metadata": {
        "id": "51_93jxs13oc",
        "colab_type": "code",
        "colab": {}
      },
      "source": [
        "def create_time_interval(dataframe):\n",
        "  dataframe.dropna()                                 # drop na or naT values\n",
        "  time_columns=identify_date_col(dataframe)\n",
        "  for i in range(len(time_columns)):             \n",
        "    for j in range(i+1,len(time_columns)):              #iterate over columns and find difference\n",
        "      dataframe['{}-{}'.format(time_columns[i],time_columns[j])]=dataframe[time_columns[i]].sub(dataframe[time_columns[j]],axis=0)    #add date difference colums in dataframe\n",
        "  dataframe=dataframe.drop(labels=time_columns,axis=1)             # Task 1.3 drop original columns\n",
        "  print(dataframe.head())\n"
      ],
      "execution_count": 203,
      "outputs": []
    },
    {
      "cell_type": "markdown",
      "metadata": {
        "id": "FjfPGGM5OaV2",
        "colab_type": "text"
      },
      "source": [
        "**Task 2.1**"
      ]
    },
    {
      "cell_type": "code",
      "metadata": {
        "id": "yLMzgcHSH8kZ",
        "colab_type": "code",
        "colab": {}
      },
      "source": [
        "def correlation_column_drop(dataframe,threshold):\n",
        "  #sns.heatmap(dataframe)            #for correlation visulaization\n",
        "  correlation_set=set()                    #to keep track of removed colums\n",
        "  corr_matrix=dataframe.corr().abs()        #to remove negative terms(.abs())\n",
        "  for i in range(len(corr_matrix.columns)):\n",
        "    for j in range(i):                            #iterate in correlation matrix\n",
        "      if (corr_matrix.iloc[i,j]>=threshold) and (corr_matrix.columns[j] not in correlation_set):\n",
        "        correlation_set.add(corr_matrix.columns[i])\n",
        "        if corr_matrix.columns[i] in dataframe.columns:\n",
        "          dataframe=dataframe.drop(labels=corr_matrix.columns[i],axis=1)\n",
        "  print(dataframe.head())\n",
        "  print(correlation_set)                    #removed colums i.e. columns that have correlation more than 0.85"
      ],
      "execution_count": 204,
      "outputs": []
    }
  ]
}